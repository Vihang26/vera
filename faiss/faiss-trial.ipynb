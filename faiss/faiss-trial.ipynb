{
 "cells": [
  {
   "cell_type": "code",
   "execution_count": 1,
   "id": "1de13c39-fbf9-4118-8b3e-73add172e01a",
   "metadata": {},
   "outputs": [],
   "source": [
    "import pandas as pd"
   ]
  },
  {
   "cell_type": "code",
   "execution_count": 2,
   "id": "c70def40-fe8e-4c64-8aa1-e23c4c4c05b5",
   "metadata": {},
   "outputs": [],
   "source": [
    "data = [\n",
    "    ['Mahatma Gandhi was born in Porbandar, Gujarat', 'location'],\n",
    "    ['Natalie ate a deep-dish pizza today', 'random'],\n",
    "    ['The AWS Serverless Architecture makes use of the AWS API Gateway and the AWS Lambda', 'networking'],\n",
    "    ['Address', 'location']\n",
    "]\n",
    "\n",
    "df = pd.DataFrame(data, columns = ['text', 'category'])"
   ]
  },
  {
   "cell_type": "code",
   "execution_count": 3,
   "id": "8ec47c28-181a-46bb-bb38-64db9873731d",
   "metadata": {},
   "outputs": [
    {
     "data": {
      "text/html": [
       "<div>\n",
       "<style scoped>\n",
       "    .dataframe tbody tr th:only-of-type {\n",
       "        vertical-align: middle;\n",
       "    }\n",
       "\n",
       "    .dataframe tbody tr th {\n",
       "        vertical-align: top;\n",
       "    }\n",
       "\n",
       "    .dataframe thead th {\n",
       "        text-align: right;\n",
       "    }\n",
       "</style>\n",
       "<table border=\"1\" class=\"dataframe\">\n",
       "  <thead>\n",
       "    <tr style=\"text-align: right;\">\n",
       "      <th></th>\n",
       "      <th>text</th>\n",
       "      <th>category</th>\n",
       "    </tr>\n",
       "  </thead>\n",
       "  <tbody>\n",
       "    <tr>\n",
       "      <th>0</th>\n",
       "      <td>Mahatma Gandhi was born in Porbandar, Gujarat</td>\n",
       "      <td>location</td>\n",
       "    </tr>\n",
       "    <tr>\n",
       "      <th>1</th>\n",
       "      <td>Natalie ate a deep-dish pizza today</td>\n",
       "      <td>random</td>\n",
       "    </tr>\n",
       "    <tr>\n",
       "      <th>2</th>\n",
       "      <td>The AWS Serverless Architecture makes use of t...</td>\n",
       "      <td>networking</td>\n",
       "    </tr>\n",
       "    <tr>\n",
       "      <th>3</th>\n",
       "      <td>Address</td>\n",
       "      <td>location</td>\n",
       "    </tr>\n",
       "  </tbody>\n",
       "</table>\n",
       "</div>"
      ],
      "text/plain": [
       "                                                text    category\n",
       "0      Mahatma Gandhi was born in Porbandar, Gujarat    location\n",
       "1                Natalie ate a deep-dish pizza today      random\n",
       "2  The AWS Serverless Architecture makes use of t...  networking\n",
       "3                                            Address    location"
      ]
     },
     "execution_count": 3,
     "metadata": {},
     "output_type": "execute_result"
    }
   ],
   "source": [
    "df.head()"
   ]
  },
  {
   "cell_type": "code",
   "execution_count": 4,
   "id": "2978a4ce-00f7-475f-87fb-266a11f561ea",
   "metadata": {},
   "outputs": [
    {
     "name": "stderr",
     "output_type": "stream",
     "text": [
      "/home/aganap12/.conda/envs/faiss-env/lib/python3.11/site-packages/tqdm/auto.py:21: TqdmWarning: IProgress not found. Please update jupyter and ipywidgets. See https://ipywidgets.readthedocs.io/en/stable/user_install.html\n",
      "  from .autonotebook import tqdm as notebook_tqdm\n"
     ]
    }
   ],
   "source": [
    "from sentence_transformers import SentenceTransformer"
   ]
  },
  {
   "cell_type": "code",
   "execution_count": 5,
   "id": "8234f6c5-c65a-43b2-b117-2faef4825bcb",
   "metadata": {},
   "outputs": [],
   "source": [
    "text = df['text']\n",
    "\n",
    "encoder = SentenceTransformer(\"paraphrase-mpnet-base-v2\")\n",
    "vectors = encoder.encode(text)"
   ]
  },
  {
   "cell_type": "code",
   "execution_count": 6,
   "id": "1b8adf05-9588-4750-991c-aadba289879e",
   "metadata": {},
   "outputs": [],
   "source": [
    "import faiss"
   ]
  },
  {
   "cell_type": "code",
   "execution_count": 7,
   "id": "674acde5-cd6b-4848-865d-9982e2918652",
   "metadata": {},
   "outputs": [],
   "source": [
    "vector_dimension = vectors.shape[1]\n",
    "index = faiss.IndexFlatL2(vector_dimension)\n",
    "faiss.normalize_L2(vectors)\n",
    "index.add(vectors)"
   ]
  },
  {
   "cell_type": "code",
   "execution_count": 8,
   "id": "48390909-4a81-497a-a8e5-c877f9e57aa2",
   "metadata": {},
   "outputs": [],
   "source": [
    "import numpy as np"
   ]
  },
  {
   "cell_type": "code",
   "execution_count": 9,
   "id": "406a40e0-559c-4119-ad79-54ad4890b945",
   "metadata": {},
   "outputs": [],
   "source": [
    "search_text = 'Do you like pasta?'\n",
    "\n",
    "search_vector = encoder.encode(search_text)\n",
    "_vector = np.array([search_vector])\n",
    "faiss.normalize_L2(_vector)"
   ]
  },
  {
   "cell_type": "code",
   "execution_count": 10,
   "id": "32a2a512-6d98-42e5-baa3-f7e567f9ec80",
   "metadata": {},
   "outputs": [],
   "source": [
    "k = index.ntotal\n",
    "distances, ann = index.search(_vector, k=k)"
   ]
  },
  {
   "cell_type": "code",
   "execution_count": 11,
   "id": "1aebfdf6-beb1-4586-96c0-c1f632b63635",
   "metadata": {},
   "outputs": [],
   "source": [
    "results = pd.DataFrame({'distances': distances[0], 'ann': ann[0]})"
   ]
  },
  {
   "cell_type": "code",
   "execution_count": 12,
   "id": "d3bbce95-9f99-4d3c-ad43-bb26220fba34",
   "metadata": {},
   "outputs": [
    {
     "data": {
      "text/html": [
       "<div>\n",
       "<style scoped>\n",
       "    .dataframe tbody tr th:only-of-type {\n",
       "        vertical-align: middle;\n",
       "    }\n",
       "\n",
       "    .dataframe tbody tr th {\n",
       "        vertical-align: top;\n",
       "    }\n",
       "\n",
       "    .dataframe thead th {\n",
       "        text-align: right;\n",
       "    }\n",
       "</style>\n",
       "<table border=\"1\" class=\"dataframe\">\n",
       "  <thead>\n",
       "    <tr style=\"text-align: right;\">\n",
       "      <th></th>\n",
       "      <th>distances</th>\n",
       "      <th>ann</th>\n",
       "    </tr>\n",
       "  </thead>\n",
       "  <tbody>\n",
       "    <tr>\n",
       "      <th>0</th>\n",
       "      <td>1.048560</td>\n",
       "      <td>1</td>\n",
       "    </tr>\n",
       "    <tr>\n",
       "      <th>1</th>\n",
       "      <td>1.905714</td>\n",
       "      <td>3</td>\n",
       "    </tr>\n",
       "    <tr>\n",
       "      <th>2</th>\n",
       "      <td>2.047615</td>\n",
       "      <td>0</td>\n",
       "    </tr>\n",
       "    <tr>\n",
       "      <th>3</th>\n",
       "      <td>2.068537</td>\n",
       "      <td>2</td>\n",
       "    </tr>\n",
       "  </tbody>\n",
       "</table>\n",
       "</div>"
      ],
      "text/plain": [
       "   distances  ann\n",
       "0   1.048560    1\n",
       "1   1.905714    3\n",
       "2   2.047615    0\n",
       "3   2.068537    2"
      ]
     },
     "execution_count": 12,
     "metadata": {},
     "output_type": "execute_result"
    }
   ],
   "source": [
    "results.head()"
   ]
  },
  {
   "cell_type": "code",
   "execution_count": 13,
   "id": "6596dc3c-5fd6-4077-9532-fa11fd8501a3",
   "metadata": {},
   "outputs": [
    {
     "data": {
      "text/html": [
       "<div>\n",
       "<style scoped>\n",
       "    .dataframe tbody tr th:only-of-type {\n",
       "        vertical-align: middle;\n",
       "    }\n",
       "\n",
       "    .dataframe tbody tr th {\n",
       "        vertical-align: top;\n",
       "    }\n",
       "\n",
       "    .dataframe thead th {\n",
       "        text-align: right;\n",
       "    }\n",
       "</style>\n",
       "<table border=\"1\" class=\"dataframe\">\n",
       "  <thead>\n",
       "    <tr style=\"text-align: right;\">\n",
       "      <th></th>\n",
       "      <th>distances</th>\n",
       "      <th>ann</th>\n",
       "      <th>text</th>\n",
       "      <th>category</th>\n",
       "    </tr>\n",
       "  </thead>\n",
       "  <tbody>\n",
       "    <tr>\n",
       "      <th>0</th>\n",
       "      <td>1.048560</td>\n",
       "      <td>1</td>\n",
       "      <td>Natalie ate a deep-dish pizza today</td>\n",
       "      <td>random</td>\n",
       "    </tr>\n",
       "    <tr>\n",
       "      <th>1</th>\n",
       "      <td>1.905714</td>\n",
       "      <td>3</td>\n",
       "      <td>Address</td>\n",
       "      <td>location</td>\n",
       "    </tr>\n",
       "    <tr>\n",
       "      <th>2</th>\n",
       "      <td>2.047615</td>\n",
       "      <td>0</td>\n",
       "      <td>Mahatma Gandhi was born in Porbandar, Gujarat</td>\n",
       "      <td>location</td>\n",
       "    </tr>\n",
       "    <tr>\n",
       "      <th>3</th>\n",
       "      <td>2.068537</td>\n",
       "      <td>2</td>\n",
       "      <td>The AWS Serverless Architecture makes use of t...</td>\n",
       "      <td>networking</td>\n",
       "    </tr>\n",
       "  </tbody>\n",
       "</table>\n",
       "</div>"
      ],
      "text/plain": [
       "   distances  ann                                               text  \\\n",
       "0   1.048560    1                Natalie ate a deep-dish pizza today   \n",
       "1   1.905714    3                                            Address   \n",
       "2   2.047615    0      Mahatma Gandhi was born in Porbandar, Gujarat   \n",
       "3   2.068537    2  The AWS Serverless Architecture makes use of t...   \n",
       "\n",
       "     category  \n",
       "0      random  \n",
       "1    location  \n",
       "2    location  \n",
       "3  networking  "
      ]
     },
     "execution_count": 13,
     "metadata": {},
     "output_type": "execute_result"
    }
   ],
   "source": [
    "merge_df = pd.merge(results, df, left_on=\"ann\", right_index=True)\n",
    "merge_df.head()"
   ]
  },
  {
   "cell_type": "code",
   "execution_count": 14,
   "id": "df7ec228-fe7d-4cd5-b3fa-370cf309deb3",
   "metadata": {},
   "outputs": [],
   "source": [
    "labels  = df['category']\n",
    "category = labels[ann[0][0]]"
   ]
  },
  {
   "cell_type": "code",
   "execution_count": 16,
   "id": "426e9574-a973-41ab-9965-03f31de130a1",
   "metadata": {},
   "outputs": [
    {
     "name": "stdout",
     "output_type": "stream",
     "text": [
      "Text: Do you like pasta?\n",
      "Category: random\n"
     ]
    }
   ],
   "source": [
    "print(f\"Text: {search_text}\\nCategory: {category}\")"
   ]
  },
  {
   "cell_type": "code",
   "execution_count": null,
   "id": "6e65b214-85e4-4a5b-9ad6-17a5ddc5beff",
   "metadata": {},
   "outputs": [],
   "source": []
  }
 ],
 "metadata": {
  "kernelspec": {
   "display_name": "faiss-env",
   "language": "python",
   "name": "faiss-env"
  },
  "language_info": {
   "codemirror_mode": {
    "name": "ipython",
    "version": 3
   },
   "file_extension": ".py",
   "mimetype": "text/x-python",
   "name": "python",
   "nbconvert_exporter": "python",
   "pygments_lexer": "ipython3",
   "version": "3.11.8"
  }
 },
 "nbformat": 4,
 "nbformat_minor": 5
}
